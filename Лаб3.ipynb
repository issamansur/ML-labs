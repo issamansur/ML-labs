{
  "nbformat": 4,
  "nbformat_minor": 0,
  "metadata": {
    "kernelspec": {
      "display_name": "Python 3",
      "language": "python",
      "name": "python3"
    },
    "language_info": {
      "codemirror_mode": {
        "name": "ipython",
        "version": 3
      },
      "file_extension": ".py",
      "mimetype": "text/x-python",
      "name": "python",
      "nbconvert_exporter": "python",
      "pygments_lexer": "ipython3",
      "version": "3.6.4"
    },
    "colab": {
      "provenance": []
    }
  },
  "cells": [
    {
      "cell_type": "markdown",
      "metadata": {
        "id": "DSMC_txo-ibV"
      },
      "source": [
        "# Лабораторная работа №3\n",
        "## Распознавание изображений на примере рукописных цифр"
      ]
    },
    {
      "cell_type": "markdown",
      "metadata": {
        "id": "W0ZpWxiD-ibb"
      },
      "source": [
        "Загрузите датасет digits с помощью функции load_digits из sklearn.datasets и подготовьте матрицу признаков X и ответы на обучающей выборке y."
      ]
    },
    {
      "cell_type": "code",
      "metadata": {
        "colab": {
          "base_uri": "https://localhost:8080/"
        },
        "id": "8H8mdEg9-ibb",
        "outputId": "1c8ef7f2-8995-4313-9eaf-6fb0a1e9645e"
      },
      "source": [
        "from sklearn.datasets import load_digits\n",
        "from sklearn.tree import DecisionTreeClassifier\n",
        "from sklearn.model_selection import cross_validate, cross_val_score\n",
        "from sklearn.model_selection import train_test_split\n",
        "from sklearn.ensemble import BaggingClassifier, RandomForestClassifier\n",
        "\n",
        "from matplotlib import pyplot as plt\n",
        "%matplotlib inline\n",
        "\n",
        "data = load_digits()\n",
        "X, y = data.data, data.target\n",
        "\n",
        "X[0,:].reshape([8,8])"
      ],
      "execution_count": null,
      "outputs": [
        {
          "output_type": "execute_result",
          "data": {
            "text/plain": [
              "array([[ 0.,  0.,  5., 13.,  9.,  1.,  0.,  0.],\n",
              "       [ 0.,  0., 13., 15., 10., 15.,  5.,  0.],\n",
              "       [ 0.,  3., 15.,  2.,  0., 11.,  8.,  0.],\n",
              "       [ 0.,  4., 12.,  0.,  0.,  8.,  8.,  0.],\n",
              "       [ 0.,  5.,  8.,  0.,  0.,  9.,  8.,  0.],\n",
              "       [ 0.,  4., 11.,  0.,  1., 12.,  7.,  0.],\n",
              "       [ 0.,  2., 14.,  5., 10., 12.,  0.,  0.],\n",
              "       [ 0.,  0.,  6., 13., 10.,  0.,  0.,  0.]])"
            ]
          },
          "metadata": {},
          "execution_count": 3
        }
      ]
    },
    {
      "cell_type": "code",
      "metadata": {
        "colab": {
          "base_uri": "https://localhost:8080/",
          "height": 36
        },
        "id": "Z4nrWzPl_Iy0",
        "outputId": "c010cf3e-aec0-412c-eaeb-8fbad1ffaa09"
      },
      "source": [
        "import sklearn\n",
        "sklearn.__version__"
      ],
      "execution_count": null,
      "outputs": [
        {
          "output_type": "execute_result",
          "data": {
            "text/plain": [
              "'1.2.2'"
            ],
            "application/vnd.google.colaboratory.intrinsic+json": {
              "type": "string"
            }
          },
          "metadata": {},
          "execution_count": 2
        }
      ]
    },
    {
      "cell_type": "code",
      "metadata": {
        "id": "5iw2hecl-ibd",
        "outputId": "aa86b7f9-4960-4864-e349-ce2ac6aa20c8",
        "colab": {
          "base_uri": "https://localhost:8080/",
          "height": 303
        }
      },
      "source": [
        "f, axes = plt.subplots(1, 4, sharey=True, figsize=(16,4))\n",
        "for i in range(4):\n",
        "    axes[i].imshow(X[i,:].reshape([8,8]));"
      ],
      "execution_count": null,
      "outputs": [
        {
          "output_type": "display_data",
          "data": {
            "text/plain": [
              "<Figure size 1600x400 with 4 Axes>"
            ],
            "image/png": "[encoded data removed]"
          },
          "metadata": {}
        }
      ]
    },
    {
      "cell_type": "markdown",
      "metadata": {
        "id": "6reCgInS-ibe"
      },
      "source": [
        "Для оценки качества далее нужно будет использовать cross_val_score из sklearn.cross_validation с параметром cv=10. Эта функция реализует k-fold cross validation c k равным значению параметра cv. Используйте k=10, чтобы полученные оценки качества имели небольшой разброс. Функция cross_val_score будет возвращать numpy.ndarray, в котором будет k чисел - качество в каждом из k экспериментов k-fold cross validation. Получите среднее значение (которое и будет оценкой качества работы) массива, который возвращает cross_val_score."
      ]
    },
    {
      "cell_type": "code",
      "source": [
        "import numpy as np"
      ],
      "metadata": {
        "id": "_MeP6KRfMw4W"
      },
      "execution_count": null,
      "outputs": []
    },
    {
      "cell_type": "code",
      "metadata": {
        "id": "Bq-Nc9jO-ibf",
        "colab": {
          "base_uri": "https://localhost:8080/"
        },
        "outputId": "36f05c70-85ff-4782-9351-8177b06e5248"
      },
      "source": [
        "X_train, X_holdout, y_train, y_holdout = train_test_split(X, y, test_size=0.3, random_state=17)\n",
        "\n",
        "model1 = DecisionTreeClassifier()\n",
        "quality1: np.ndarray = cross_val_score(model1, X_train, y_train, cv=10)\n",
        "print(\"Оценки качества:\")\n",
        "print(*quality1, sep=',\\n')\n",
        "\n",
        "quality_avg1 = quality1.mean()\n",
        "print(\"Среднее качество/точность: \" + quality_avg1.__str__())\n",
        "print(\"Средняя ошибка: \" + (1.00 - quality_avg1).__str__())"
      ],
      "execution_count": null,
      "outputs": [
        {
          "output_type": "stream",
          "name": "stdout",
          "text": [
            "Оценки качества:\n",
            "0.8174603174603174,\n",
            "0.8412698412698413,\n",
            "0.8492063492063492,\n",
            "0.8253968253968254,\n",
            "0.8253968253968254,\n",
            "0.8571428571428571,\n",
            "0.8492063492063492,\n",
            "0.864,\n",
            "0.872,\n",
            "0.832\n",
            "Среднее качество/точность: 0.8433079365079366\n",
            "Средняя ошибка: 0.15669206349206344\n"
          ]
        }
      ]
    },
    {
      "cell_type": "markdown",
      "metadata": {
        "id": "gMvxCrCB-ibg"
      },
      "source": [
        "Воспользуйтесь BaggingClassifier из sklearn.ensemble, чтобы обучить бэггинг над DecisionTreeClassifier. Обучайтесь только на train выборке. Используйте в BaggingClassifier параметры по умолчанию, задав только количество деревьев равным 100. Качество классификации новой модели - среднее значение cross_val_score. Сравните работу композиции деревьев с одним решающем деревом."
      ]
    },
    {
      "cell_type": "code",
      "metadata": {
        "collapsed": true,
        "id": "0Ihuo-nI-ibg",
        "colab": {
          "base_uri": "https://localhost:8080/"
        },
        "outputId": "1d32e74d-0c42-4e78-d4aa-683942c10945"
      },
      "source": [
        "model2 = BaggingClassifier(\n",
        "    model1,\n",
        "    n_estimators=100\n",
        "    )\n",
        "\n",
        "quality2 = cross_val_score(model2, X_train, y_train, cv=10)\n",
        "print(\"Оценки качества:\")\n",
        "print(*quality2, sep=',\\n')\n",
        "\n",
        "quality_avg2 = quality2.mean()\n",
        "print(\"Среднее качество/точность: \" + quality_avg2.__str__())\n",
        "print(\"Средняя ошибка: \" + (1.00 - quality_avg2).__str__())"
      ],
      "execution_count": null,
      "outputs": [
        {
          "output_type": "stream",
          "name": "stdout",
          "text": [
            "Оценки качества:\n",
            "0.9444444444444444,\n",
            "0.9365079365079365,\n",
            "0.9285714285714286,\n",
            "0.9365079365079365,\n",
            "0.8968253968253969,\n",
            "0.9365079365079365,\n",
            "0.9444444444444444,\n",
            "0.952,\n",
            "0.96,\n",
            "0.968\n",
            "Среднее качество/точность: 0.9403809523809524\n",
            "Средняя ошибка: 0.05961904761904757\n"
          ]
        }
      ]
    },
    {
      "cell_type": "markdown",
      "metadata": {
        "id": "2xTE-3Lh-ibg"
      },
      "source": [
        "Теперь изучите параметры BaggingClassifier и выберите их такими, чтобы каждый базовый алгоритм обучался не на всех d признаках, а на $\\sqrt{d}$ случайных признаков. Каково качество работы алгоритма?"
      ]
    },
    {
      "cell_type": "code",
      "metadata": {
        "collapsed": true,
        "id": "MatRhfsC-ibh",
        "colab": {
          "base_uri": "https://localhost:8080/"
        },
        "outputId": "c070d848-572d-44c1-f048-38df67b91b44"
      },
      "source": [
        "# doesn't work\n",
        "# model3 = BaggingClassifier(model1, n_estimators=100, max_features=\"sqrt\")\n",
        "\n",
        "model3 = BaggingClassifier(\n",
        "    model1,\n",
        "    n_estimators=100,\n",
        "    max_features=round(np.sqrt(X_train.shape[1]))\n",
        "    )\n",
        "\n",
        "quality3 = cross_val_score(model3, X_train, y_train, cv=10)\n",
        "print(\"Оценки качества:\")\n",
        "print(*quality3, sep=',\\n')\n",
        "\n",
        "quality_avg3 = quality3.mean()\n",
        "print(\"Среднее качество/точность: \" + quality_avg3.__str__())\n",
        "print(\"Средняя ошибка: \" + (1.00 - quality_avg3).__str__())"
      ],
      "execution_count": null,
      "outputs": [
        {
          "output_type": "stream",
          "name": "stdout",
          "text": [
            "Оценки качества:\n",
            "0.9365079365079365,\n",
            "0.9682539682539683,\n",
            "0.9603174603174603,\n",
            "1.0,\n",
            "0.9206349206349206,\n",
            "0.9603174603174603,\n",
            "0.9603174603174603,\n",
            "0.952,\n",
            "0.944,\n",
            "0.976\n",
            "Среднее качество/точность: 0.9578349206349206\n",
            "Средняя ошибка: 0.042165079365079405\n"
          ]
        }
      ]
    },
    {
      "cell_type": "markdown",
      "metadata": {
        "id": "zqZ9obR2-ibh"
      },
      "source": [
        "Наконец, давайте попробуем выбирать случайные признаки не один раз на все дерево, а при построении каждой вершины дерева. Сделать это несложно: нужно убрать выбор случайного подмножества признаков в BaggingClassifier и добавить его в DecisionTreeClassifier. Какой параметр за это отвечает, можно понять из документации sklearn. Попробуйте выбирать опять же $\\sqrt{d}$ признаков. Какое теперь качество полученного классификатора?"
      ]
    },
    {
      "cell_type": "code",
      "metadata": {
        "collapsed": true,
        "id": "9SUuOidx-ibi",
        "colab": {
          "base_uri": "https://localhost:8080/"
        },
        "outputId": "01f8a480-0d77-4d58-80bc-136432d3414a"
      },
      "source": [
        "model4 = DecisionTreeClassifier(max_features='sqrt')\n",
        "\n",
        "\n",
        "model5 = BaggingClassifier(\n",
        "    model4,\n",
        "    n_estimators=100\n",
        "    )\n",
        "\n",
        "quality5 = cross_val_score(model5, X_train, y_train, cv=10)\n",
        "print(\"Оценки качества:\")\n",
        "print(*quality5, sep=',\\n')\n",
        "\n",
        "quality_avg5 = quality5.mean()\n",
        "print(\"Среднее качество/точность: \" + quality_avg5.__str__())\n",
        "print(\"Средняя ошибка: \" + (1.00 - quality_avg5).__str__())"
      ],
      "execution_count": null,
      "outputs": [
        {
          "output_type": "stream",
          "name": "stdout",
          "text": [
            "Оценки качества:\n",
            "0.9603174603174603,\n",
            "0.9920634920634921,\n",
            "0.9523809523809523,\n",
            "0.9841269841269841,\n",
            "0.9682539682539683,\n",
            "0.9841269841269841,\n",
            "0.9920634920634921,\n",
            "0.984,\n",
            "0.976,\n",
            "0.992\n",
            "Среднее качество/точность: 0.9785333333333334\n",
            "Средняя ошибка: 0.021466666666666634\n"
          ]
        }
      ]
    },
    {
      "cell_type": "markdown",
      "metadata": {
        "id": "pOmIj2j6-ibi"
      },
      "source": [
        "Полученный в пункте 4 классификатор - бэггинг на рандомизированных деревьях (в которых при построении каждой вершины выбирается случайное подмножество признаков и разбиение ищется только по ним). Это в точности соответствует алгоритму Random Forest. Сравнить качество работы классификатора с RandomForestClassifier из sklearn.ensemble."
      ]
    },
    {
      "cell_type": "code",
      "metadata": {
        "id": "SA2ZxLzy-ibj",
        "colab": {
          "base_uri": "https://localhost:8080/"
        },
        "outputId": "c79ad2a8-50e4-44eb-ac0e-702d54bfb320"
      },
      "source": [
        "model6 = RandomForestClassifier(n_estimators=100, max_features='sqrt')\n",
        "quality6 = cross_val_score(model5, X_train, y_train, cv=10)\n",
        "print(\"Оценки качества:\")\n",
        "print(*quality6, sep=',\\n')\n",
        "\n",
        "quality_avg6 = quality6.mean()\n",
        "print(\"Среднее качество/точность: \" + quality_avg6.__str__())\n",
        "print(\"Средняя ошибка: \" + (1.00 - quality_avg6).__str__())"
      ],
      "execution_count": null,
      "outputs": [
        {
          "output_type": "stream",
          "name": "stdout",
          "text": [
            "Оценки качества:\n",
            "0.9523809523809523,\n",
            "0.9841269841269841,\n",
            "0.9682539682539683,\n",
            "0.9841269841269841,\n",
            "0.9682539682539683,\n",
            "0.9920634920634921,\n",
            "0.9841269841269841,\n",
            "0.976,\n",
            "0.984,\n",
            "0.992\n",
            "Среднее качество/точность: 0.9785333333333334\n",
            "Средняя ошибка: 0.021466666666666634\n"
          ]
        }
      ]
    },
    {
      "cell_type": "markdown",
      "source": [
        "Out-of-bag error\n",
        "\n",
        "Забегая вперед, отметим, что при использовании случайных лесов нет необходимости в кросс-валидации или в отдельном тестовом наборе, чтобы получить несмещенную оценку ошибки набора тестов.\n",
        "\n",
        "\n",
        "P. S. https://habr.com/ru/companies/ods/articles/324402/\n",
        "\n",
        "Тогда получается смысла смотреть нет?\n"
      ],
      "metadata": {
        "id": "dn8j29hxJTJG"
      }
    },
    {
      "cell_type": "markdown",
      "metadata": {
        "id": "SY-eidKv-ibj"
      },
      "source": [
        "Изучите, как качество классификации на данном датасете зависит от количества деревьев, количества признаков, выбираемых при построении каждой вершины дерева, а также ограничений на глубину дерева. Для наглядности лучше построить графики зависимости качества от значений параметров на обучающей и тестовой выборке"
      ]
    },
    {
      "cell_type": "code",
      "source": [
        "# кол-во деревьев от 1 до 100\n",
        "tree_counts = [1, 25, 50, 100]\n",
        "# кол-во признаков от 0.1 доли до 1 (т. е. от 10 до 100%)\n",
        "feature_counts =  [ i * 0.1 for i in range(1, 11) ]\n",
        "# макс глубина от 5 до неограниченного\n",
        "max_depths = [5, 10, 15, 20, None]\n",
        "\n",
        "results_tree_count = []\n",
        "results_feature_count = []\n",
        "results_max_depth = []\n",
        "\n",
        "import matplotlib.pyplot as plt\n",
        "import seaborn as sns\n",
        "\n",
        "# Исследование влияния количества деревьев\n",
        "for tree_count in tree_counts:\n",
        "    model = BaggingClassifier(n_estimators=tree_count, random_state=17)\n",
        "    quality = cross_val_score(model, X_train, y_train, cv=10).mean()\n",
        "    results_tree_count.append(quality)\n",
        "\n",
        "# Исследование влияния количества признаков\n",
        "for feature_count in feature_counts:\n",
        "    model = BaggingClassifier(n_estimators=100, max_features=feature_count, random_state=17)\n",
        "    quality = cross_val_score(model, X_train, y_train, cv=10).mean()\n",
        "    results_feature_count.append(quality)\n",
        "\n",
        "# Исследование влияния ограничения на глубину дерева\n",
        "for max_depth in max_depths:\n",
        "    model = RandomForestClassifier(n_estimators=100, max_depth=max_depth, random_state=17)\n",
        "    quality = cross_val_score(model, X_train, y_train, cv=10).mean()\n",
        "    results_max_depth.append(quality)\n",
        "\n",
        "# Построение графиков\n",
        "plt.figure(figsize=(15, 5))\n",
        "\n",
        "# График зависимости от количества деревьев\n",
        "plt.subplot(1, 3, 1)\n",
        "sns.lineplot(x=tree_counts, y=results_tree_count)\n",
        "plt.title('Зависимость от количества деревьев')\n",
        "\n",
        "# График зависимости от количества признаков\n",
        "plt.subplot(1, 3, 2)\n",
        "sns.barplot(x=feature_counts, y=results_feature_count)\n",
        "plt.title('Зависимость от количества признаков')\n",
        "\n",
        "# График зависимости от ограничения глубины дерева\n",
        "plt.subplot(1, 3, 3)\n",
        "sns.barplot(x=max_depths, y=results_max_depth)\n",
        "plt.title('Зависимость от ограничения глубины дерева')\n",
        "\n",
        "plt.show()"
      ],
      "metadata": {
        "colab": {
          "base_uri": "https://localhost:8080/",
          "height": 468
        },
        "id": "_qNLShh3-OPy",
        "outputId": "a4923c7a-2c6f-42ea-c6ba-085117ea8d74"
      },
      "execution_count": null,
      "outputs": [
        {
          "output_type": "display_data",
          "data": {
            "text/plain": [
              "<Figure size 1500x500 with 3 Axes>"
            ],
            "image/png": "[encoded data removed]"
          },
          "metadata": {}
        }
      ]
    }
  ]
}